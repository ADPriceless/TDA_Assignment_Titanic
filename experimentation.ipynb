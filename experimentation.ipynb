{
 "cells": [
  {
   "cell_type": "code",
   "execution_count": 74,
   "metadata": {},
   "outputs": [],
   "source": [
    "# Ignore all future warnings\n",
    "from warnings import simplefilter\n",
    "simplefilter(action='ignore', category=FutureWarning)"
   ]
  },
  {
   "cell_type": "code",
   "execution_count": 75,
   "metadata": {},
   "outputs": [],
   "source": [
    "import numpy as np\n",
    "import pandas as pd\n",
    "from sklearn.impute import SimpleImputer, KNNImputer\n",
    "from sklearn.compose import ColumnTransformer\n",
    "from sklearn.model_selection import train_test_split\n",
    "from sklearn.preprocessing import OneHotEncoder, QuantileTransformer, StandardScaler, MinMaxScaler\n",
    "from sklearn.metrics import (ConfusionMatrixDisplay, confusion_matrix,\n",
    "                             classification_report, f1_score, accuracy_score,\n",
    "                             precision_recall_curve, PrecisionRecallDisplay,\n",
    "                             roc_curve, RocCurveDisplay, auc)\n",
    "from sklearn.svm import LinearSVC, SVC\n",
    "from sklearn.ensemble import RandomForestClassifier, GradientBoostingClassifier, VotingClassifier\n",
    "from sklearn.pipeline import Pipeline\n",
    "\n",
    "from datassist import experiment\n",
    "from datassist import log_results"
   ]
  },
  {
   "cell_type": "code",
   "execution_count": 76,
   "metadata": {},
   "outputs": [],
   "source": [
    "df_titanic = pd.read_csv('data/train.csv')\n",
    "df_titanic = df_titanic.set_index('PassengerId')"
   ]
  },
  {
   "cell_type": "markdown",
   "metadata": {},
   "source": [
    "## Preprocessing Pipeline"
   ]
  },
  {
   "cell_type": "code",
   "execution_count": 77,
   "metadata": {},
   "outputs": [],
   "source": [
    "params = {\n",
    "    'random_state': 42,\n",
    "    'add_deck_from_cabin': True,\n",
    "    'scale_SibSp_ParCh': 'SameAsNumeric',\n",
    "}"
   ]
  },
  {
   "cell_type": "code",
   "execution_count": 78,
   "metadata": {},
   "outputs": [],
   "source": [
    "if params['add_deck_from_cabin']:\n",
    "    def take_first_letter(row):\n",
    "        \"\"\"Check if cabin is null and return the first letter of cabin\"\"\"\n",
    "        if pd.isnull(row):\n",
    "            return 'Unknown'\n",
    "        else:\n",
    "            return row[0]\n",
    "    \n",
    "\n",
    "    df_titanic['Deck'] = df_titanic['Cabin'].apply(take_first_letter)"
   ]
  },
  {
   "cell_type": "code",
   "execution_count": 79,
   "metadata": {},
   "outputs": [],
   "source": [
    "# Dropping Name since it is not important for prediction,\n",
    "# Cabin is also not useful since it has too many missing values.\n",
    "# Finally, ticket is a random string of characters\n",
    "X = df_titanic.drop(columns=['Survived', 'Name', 'Cabin', 'Ticket'])\n",
    "y = df_titanic['Survived']"
   ]
  },
  {
   "cell_type": "code",
   "execution_count": 80,
   "metadata": {},
   "outputs": [],
   "source": [
    "X_train, X_val, y_train, y_val = train_test_split(X, y, random_state=params['random_state'])"
   ]
  },
  {
   "cell_type": "code",
   "execution_count": 81,
   "metadata": {},
   "outputs": [
    {
     "data": {
      "text/html": [
       "<div>\n",
       "<style scoped>\n",
       "    .dataframe tbody tr th:only-of-type {\n",
       "        vertical-align: middle;\n",
       "    }\n",
       "\n",
       "    .dataframe tbody tr th {\n",
       "        vertical-align: top;\n",
       "    }\n",
       "\n",
       "    .dataframe thead th {\n",
       "        text-align: right;\n",
       "    }\n",
       "</style>\n",
       "<table border=\"1\" class=\"dataframe\">\n",
       "  <thead>\n",
       "    <tr style=\"text-align: right;\">\n",
       "      <th></th>\n",
       "      <th>Pclass</th>\n",
       "      <th>Sex</th>\n",
       "      <th>Age</th>\n",
       "      <th>SibSp</th>\n",
       "      <th>Parch</th>\n",
       "      <th>Fare</th>\n",
       "      <th>Embarked</th>\n",
       "      <th>Deck</th>\n",
       "    </tr>\n",
       "    <tr>\n",
       "      <th>PassengerId</th>\n",
       "      <th></th>\n",
       "      <th></th>\n",
       "      <th></th>\n",
       "      <th></th>\n",
       "      <th></th>\n",
       "      <th></th>\n",
       "      <th></th>\n",
       "      <th></th>\n",
       "    </tr>\n",
       "  </thead>\n",
       "  <tbody>\n",
       "    <tr>\n",
       "      <th>299</th>\n",
       "      <td>1</td>\n",
       "      <td>male</td>\n",
       "      <td>NaN</td>\n",
       "      <td>0</td>\n",
       "      <td>0</td>\n",
       "      <td>30.5000</td>\n",
       "      <td>S</td>\n",
       "      <td>C</td>\n",
       "    </tr>\n",
       "    <tr>\n",
       "      <th>885</th>\n",
       "      <td>3</td>\n",
       "      <td>male</td>\n",
       "      <td>25.00</td>\n",
       "      <td>0</td>\n",
       "      <td>0</td>\n",
       "      <td>7.0500</td>\n",
       "      <td>S</td>\n",
       "      <td>Unknown</td>\n",
       "    </tr>\n",
       "    <tr>\n",
       "      <th>248</th>\n",
       "      <td>2</td>\n",
       "      <td>female</td>\n",
       "      <td>24.00</td>\n",
       "      <td>0</td>\n",
       "      <td>2</td>\n",
       "      <td>14.5000</td>\n",
       "      <td>S</td>\n",
       "      <td>Unknown</td>\n",
       "    </tr>\n",
       "    <tr>\n",
       "      <th>479</th>\n",
       "      <td>3</td>\n",
       "      <td>male</td>\n",
       "      <td>22.00</td>\n",
       "      <td>0</td>\n",
       "      <td>0</td>\n",
       "      <td>7.5208</td>\n",
       "      <td>S</td>\n",
       "      <td>Unknown</td>\n",
       "    </tr>\n",
       "    <tr>\n",
       "      <th>306</th>\n",
       "      <td>1</td>\n",
       "      <td>male</td>\n",
       "      <td>0.92</td>\n",
       "      <td>1</td>\n",
       "      <td>2</td>\n",
       "      <td>151.5500</td>\n",
       "      <td>S</td>\n",
       "      <td>C</td>\n",
       "    </tr>\n",
       "  </tbody>\n",
       "</table>\n",
       "</div>"
      ],
      "text/plain": [
       "             Pclass     Sex    Age  SibSp  Parch      Fare Embarked     Deck\n",
       "PassengerId                                                                 \n",
       "299               1    male    NaN      0      0   30.5000        S        C\n",
       "885               3    male  25.00      0      0    7.0500        S  Unknown\n",
       "248               2  female  24.00      0      2   14.5000        S  Unknown\n",
       "479               3    male  22.00      0      0    7.5208        S  Unknown\n",
       "306               1    male   0.92      1      2  151.5500        S        C"
      ]
     },
     "execution_count": 81,
     "metadata": {},
     "output_type": "execute_result"
    }
   ],
   "source": [
    "X_train.head()"
   ]
  },
  {
   "cell_type": "code",
   "execution_count": 82,
   "metadata": {},
   "outputs": [],
   "source": [
    "# Feature Engineering Steps\n",
    "# imputer = SimpleImputer(strategy='median')\n",
    "imputer = KNNImputer()\n",
    "scaler = QuantileTransformer(\n",
    "    output_distribution='normal',\n",
    "    random_state=params['random_state'],\n",
    "    n_quantiles=500\n",
    ")\n",
    "numeric_pipe = Pipeline((\n",
    "    ('impute', imputer),\n",
    "    ('scale', scaler),\n",
    "))\n",
    "\n",
    "# Categorical Encoder\n",
    "categorical_encoder = OneHotEncoder()\n",
    "\n",
    "# Identify Features\n",
    "numeric_features = X.drop(columns=['SibSp', 'Parch']).select_dtypes(include='number').columns\n",
    "categorical_features = X.select_dtypes(include='object').columns\n",
    "\n",
    "# Choose scaler for SibSp and Parch columns \n",
    "# to add to preproc_pipeline \n",
    "if params['scale_SibSp_ParCh'] == 'MinMaxScaler':\n",
    "    remainder = MinMaxScaler((-1,1))\n",
    "elif params['scale_SibSp_ParCh'] == 'SameAsNumeric':\n",
    "    remainder = scaler\n",
    "elif params['scale_SibSp_ParCh'] == 'None':\n",
    "    remainder = 'passthrough'\n",
    "else:\n",
    "    raise ValueError(\n",
    "        'scale_SibSp_ParCh must be one of \"MinMaxScaler\", \"SameAsNumeric\", or \"None\"'\n",
    "    )\n",
    "\n",
    "# Preprocessing pipeline\n",
    "preproc_pipeline = ColumnTransformer(\n",
    "    [\n",
    "        (\"numeric\", numeric_pipe, numeric_features),\n",
    "        (\"categorical\", categorical_encoder, categorical_features),\n",
    "    ],\n",
    "    # SibSp and ParCh will be passed through unchanged since\n",
    "    # they are omitted from `numeric_features`\n",
    "    remainder=remainder,\n",
    "    n_jobs=-1\n",
    ")"
   ]
  },
  {
   "cell_type": "code",
   "execution_count": 83,
   "metadata": {},
   "outputs": [
    {
     "name": "stdout",
     "output_type": "stream",
     "text": [
      "Index(['Pclass', 'Age', 'Fare'], dtype='object')\n",
      "Index(['Sex', 'Embarked', 'Deck'], dtype='object')\n"
     ]
    }
   ],
   "source": [
    "print(numeric_features)\n",
    "print(categorical_features)"
   ]
  },
  {
   "cell_type": "code",
   "execution_count": 84,
   "metadata": {},
   "outputs": [
    {
     "data": {
      "text/plain": [
       "array([[-5.19933758,  0.82597613,  0.67922709,  0.        ,  1.        ,\n",
       "         0.        ,  0.        ,  1.        ,  0.        ,  0.        ,\n",
       "         0.        ,  1.        ,  0.        ,  0.        ,  0.        ,\n",
       "         0.        ,  0.        ,  0.        , -5.19933758, -5.19933758],\n",
       "       [ 5.19933758, -0.29560066, -1.76148522,  0.        ,  1.        ,\n",
       "         0.        ,  0.        ,  1.        ,  0.        ,  0.        ,\n",
       "         0.        ,  0.        ,  0.        ,  0.        ,  0.        ,\n",
       "         0.        ,  0.        ,  1.        , -5.19933758, -5.19933758],\n",
       "       [-0.43256522, -0.43532485,  0.03517037,  1.        ,  0.        ,\n",
       "         0.        ,  0.        ,  1.        ,  0.        ,  0.        ,\n",
       "         0.        ,  0.        ,  0.        ,  0.        ,  0.        ,\n",
       "         0.        ,  0.        ,  1.        , -5.19933758,  1.553765  ],\n",
       "       [ 5.19933758, -0.62638549, -1.29664163,  0.        ,  1.        ,\n",
       "         0.        ,  0.        ,  1.        ,  0.        ,  0.        ,\n",
       "         0.        ,  0.        ,  0.        ,  0.        ,  0.        ,\n",
       "         0.        ,  0.        ,  1.        , -5.19933758, -5.19933758],\n",
       "       [-5.19933758, -2.4304379 ,  1.86540792,  0.        ,  1.        ,\n",
       "         0.        ,  0.        ,  1.        ,  0.        ,  0.        ,\n",
       "         0.        ,  1.        ,  0.        ,  0.        ,  0.        ,\n",
       "         0.        ,  0.        ,  0.        ,  0.82597613,  1.553765  ]])"
      ]
     },
     "execution_count": 84,
     "metadata": {},
     "output_type": "execute_result"
    }
   ],
   "source": [
    "# Check output from preproc_pipeline\n",
    "transformed = preproc_pipeline.fit_transform(X_train)\n",
    "transformed[:5, :]"
   ]
  },
  {
   "cell_type": "code",
   "execution_count": 102,
   "metadata": {},
   "outputs": [
    {
     "data": {
      "text/plain": [
       "True"
      ]
     },
     "execution_count": 102,
     "metadata": {},
     "output_type": "execute_result"
    }
   ],
   "source": [
    "# check for NaNs in `transformed`\n",
    "assert not np.isnan(transformed).any()"
   ]
  },
  {
   "cell_type": "code",
   "execution_count": 86,
   "metadata": {},
   "outputs": [
    {
     "name": "stdout",
     "output_type": "stream",
     "text": [
      "['male' 'female']\n",
      "['S' 'C' 'Q' nan]\n"
     ]
    }
   ],
   "source": [
    "# Two NaNs in 'Embarked'\n",
    "print(X_train['Sex'].unique())\n",
    "print(X_train['Embarked'].unique())"
   ]
  },
  {
   "cell_type": "code",
   "execution_count": 87,
   "metadata": {},
   "outputs": [],
   "source": [
    "# clf = LinearSVC(\n",
    "#     random_state=params['random_state'],\n",
    "#     # class_weight='balanced',\n",
    "#     max_iter=2000\n",
    "# )\n",
    "clf = SVC(random_state=params['random_state'])\n",
    "# clf2 = GradientBoostingClassifier(random_state=params['random_state'])\n",
    "# clf3 = RandomForestClassifier(random_state=params['random_state'])\n",
    "\n",
    "# clf = VotingClassifier(\n",
    "#     estimators=[('svc', clf1), ('gbc', clf2), ('rfc', clf3)],\n",
    "#     voting='hard'\n",
    "# )\n",
    "\n",
    "pipe = Pipeline((\n",
    "    ('preprocessing', preproc_pipeline),\n",
    "    ('classifier', clf)\n",
    "))"
   ]
  },
  {
   "cell_type": "markdown",
   "metadata": {},
   "source": [
    "## Results"
   ]
  },
  {
   "cell_type": "code",
   "execution_count": 88,
   "metadata": {},
   "outputs": [
    {
     "name": "stdout",
     "output_type": "stream",
     "text": [
      "CV Results\n",
      "F1 score: nan +/- nan\n",
      "training time: 0.03s +/- 0.00s\n"
     ]
    }
   ],
   "source": [
    "# Evaluate using cross validation\n",
    "cv_results = experiment.evaluate_cv(pipe, X_train, y_train, scoring='f1')\n",
    "experiment.print_cv_results(cv_results, scoring='F1 score')"
   ]
  },
  {
   "cell_type": "code",
   "execution_count": 99,
   "metadata": {},
   "outputs": [
    {
     "name": "stdout",
     "output_type": "stream",
     "text": [
      "fit_time : [0.03200102 0.03399897 0.03600025 0.03399968 0.03200054]\n",
      "score_time : [0.01699877 0.01799893 0.01799917 0.01799917 0.01799965]\n",
      "test_score : [       nan 0.69047619 0.80373832 0.72093023 0.63157895]\n"
     ]
    }
   ],
   "source": [
    "for k,v in cv_results.items():\n",
    "    print(k, ':', v)"
   ]
  },
  {
   "cell_type": "code",
   "execution_count": 89,
   "metadata": {},
   "outputs": [],
   "source": [
    "pipe.fit(X_train, y_train)\n",
    "y_pred = pipe.predict(X_val)"
   ]
  },
  {
   "cell_type": "code",
   "execution_count": 90,
   "metadata": {},
   "outputs": [
    {
     "name": "stdout",
     "output_type": "stream",
     "text": [
      "              precision    recall  f1-score   support\n",
      "\n",
      "           0       0.81      0.91      0.86       134\n",
      "           1       0.83      0.67      0.75        89\n",
      "\n",
      "    accuracy                           0.82       223\n",
      "   macro avg       0.82      0.79      0.80       223\n",
      "weighted avg       0.82      0.82      0.81       223\n",
      "\n"
     ]
    }
   ],
   "source": [
    "print(classification_report(y_val, y_pred))"
   ]
  },
  {
   "cell_type": "code",
   "execution_count": 91,
   "metadata": {},
   "outputs": [
    {
     "data": {
      "image/png": "[encoded data removed]",
      "text/plain": [
       "<Figure size 640x480 with 2 Axes>"
      ]
     },
     "metadata": {},
     "output_type": "display_data"
    }
   ],
   "source": [
    "cm = confusion_matrix(y_val, y_pred)\n",
    "cm_display = ConfusionMatrixDisplay(cm).plot()\n",
    "cm_display.im_.set_cmap('afmhot')"
   ]
  },
  {
   "cell_type": "code",
   "execution_count": 92,
   "metadata": {},
   "outputs": [
    {
     "name": "stderr",
     "output_type": "stream",
     "text": [
      "WARNING:matplotlib.legend:No artists with labels found to put in legend.  Note that artists whose label start with an underscore are ignored when legend() is called with no argument.\n"
     ]
    },
    {
     "data": {
      "image/png": "[encoded data removed]",
      "text/plain": [
       "<Figure size 640x480 with 1 Axes>"
      ]
     },
     "metadata": {},
     "output_type": "display_data"
    }
   ],
   "source": [
    "if hasattr(pipe, 'decision_function'):\n",
    "    y_score = pipe.decision_function(X_val)\n",
    "    fpr, tpr, _ = roc_curve(y_val, y_score, pos_label=pipe.classes_[1])\n",
    "    roc_display = RocCurveDisplay(fpr=fpr, tpr=tpr).plot()"
   ]
  },
  {
   "cell_type": "code",
   "execution_count": 93,
   "metadata": {},
   "outputs": [
    {
     "name": "stdout",
     "output_type": "stream",
     "text": [
      "AUC score: 0.860724467549891\n"
     ]
    }
   ],
   "source": [
    "if hasattr(pipe, 'decision_function'):\n",
    "    print(f'AUC score: {auc(fpr, tpr)}')"
   ]
  },
  {
   "cell_type": "code",
   "execution_count": 94,
   "metadata": {},
   "outputs": [
    {
     "data": {
      "image/png": "[encoded data removed]",
      "text/plain": [
       "<Figure size 640x480 with 1 Axes>"
      ]
     },
     "metadata": {},
     "output_type": "display_data"
    }
   ],
   "source": [
    "if hasattr(pipe, 'decision_function'):\n",
    "    prec, recall, _ = precision_recall_curve(y_val, y_score, pos_label=clf.classes_[1])\n",
    "    pr_display = PrecisionRecallDisplay(precision=prec, recall=recall).plot()"
   ]
  },
  {
   "cell_type": "markdown",
   "metadata": {},
   "source": [
    "## Log Results"
   ]
  },
  {
   "cell_type": "code",
   "execution_count": 95,
   "metadata": {},
   "outputs": [],
   "source": [
    "metrics = {\n",
    "    'F1_score': f1_score(y_val, y_pred),\n",
    "    'Accuracy': accuracy_score(y_val, y_pred)\n",
    "}\n",
    "if hasattr(pipe, 'decision_function'):\n",
    "    metrics['AUC'] = auc(fpr, tpr)"
   ]
  },
  {
   "cell_type": "code",
   "execution_count": 96,
   "metadata": {},
   "outputs": [],
   "source": [
    "# Setup experiment logging\n",
    "helper = log_results.MlflowHelper()\n",
    "helper.start_local_tracking_server()\n",
    "helper.setup_experiment('Titanic')"
   ]
  },
  {
   "cell_type": "code",
   "execution_count": 97,
   "metadata": {},
   "outputs": [],
   "source": [
    "# Evaluate the model on the validation set\n",
    "def log_model(\n",
    "    model,\n",
    "    params: dict | None,\n",
    "    metrics: dict | None,\n",
    "    tags: dict | None\n",
    "):\n",
    "    return model, params, metrics, tags"
   ]
  },
  {
   "cell_type": "code",
   "execution_count": 98,
   "metadata": {},
   "outputs": [
    {
     "name": "stdout",
     "output_type": "stream",
     "text": [
      "fluent 1\n"
     ]
    }
   ],
   "source": [
    "helper.run_experiment(\n",
    "    lambda: log_model(pipe, params, metrics, None),\n",
    ")"
   ]
  },
  {
   "cell_type": "code",
   "execution_count": null,
   "metadata": {},
   "outputs": [],
   "source": []
  }
 ],
 "metadata": {
  "kernelspec": {
   "display_name": "machine_learning",
   "language": "python",
   "name": "python3"
  },
  "language_info": {
   "codemirror_mode": {
    "name": "ipython",
    "version": 3
   },
   "file_extension": ".py",
   "mimetype": "text/x-python",
   "name": "python",
   "nbconvert_exporter": "python",
   "pygments_lexer": "ipython3",
   "version": "3.10.12"
  }
 },
 "nbformat": 4,
 "nbformat_minor": 2
}
